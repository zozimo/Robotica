{
 "cells": [
  {
   "cell_type": "markdown",
   "metadata": {},
   "source": [
    "# Repaso de cositas de python"
   ]
  },
  {
   "cell_type": "code",
   "execution_count": 122,
   "metadata": {},
   "outputs": [
    {
     "name": "stdout",
     "output_type": "stream",
     "text": [
      "2\n"
     ]
    }
   ],
   "source": [
    "from funciones import *\n",
    "# def matrizAntisimetrica(v):\n",
    "#     print(v)\n",
    "#     # S = \n",
    "a = matrizAntisimetrica(2)"
   ]
  },
  {
   "cell_type": "code",
   "execution_count": 123,
   "metadata": {},
   "outputs": [
    {
     "name": "stdout",
     "output_type": "stream",
     "text": [
      "1\n",
      "[[1 2 3]]\n"
     ]
    }
   ],
   "source": [
    "import numpy as np\n",
    "from funciones import *\n",
    "a = np.array(1)\n",
    "print(a)\n",
    "b = np.array([[1,2,3]])\n",
    "a = matrizAntisimetrica(b)"
   ]
  },
  {
   "cell_type": "code",
   "execution_count": 124,
   "metadata": {},
   "outputs": [],
   "source": [
    "# x = input(\"Ingrese un valor\")\n",
    "# print(\"usted ingreso\", x)\n",
    "for i in range(1,11):\n",
    "    pass\n",
    "    # print(i)"
   ]
  },
  {
   "cell_type": "markdown",
   "metadata": {},
   "source": [
    "## Listas, tuplas y diccionarios"
   ]
  },
  {
   "cell_type": "code",
   "execution_count": 125,
   "metadata": {},
   "outputs": [
    {
     "name": "stdout",
     "output_type": "stream",
     "text": [
      "Esta CAMPBELL en la lista? Rta = True\n",
      "Esta Coastal en la lista? Rta = False\n"
     ]
    }
   ],
   "source": [
    "marca_de_sensores = ['SIAP', 'VAISALA', 'CAMPBELL']\n",
    "q = marca_de_sensores[2]\n",
    "print('Esta {} en la lista? Rta = {}'.format(q, q in marca_de_sensores))\n",
    "q = 'Coastal'\n",
    "print('Esta {} en la lista? Rta = {}'.format(q, q in marca_de_sensores))"
   ]
  },
  {
   "cell_type": "code",
   "execution_count": 126,
   "metadata": {},
   "outputs": [
    {
     "name": "stdout",
     "output_type": "stream",
     "text": [
      "{'Pedro': 2652, 'Juan': 4545, 'Marcos': 4889}\n",
      "{'Pedro': 2652, 'Juan': 4545, 'Marcos': 4889, 'Cristian': 4568}\n",
      "{'Pedro': 2652, 'Marcos': 4889, 'Cristian': 4568}\n",
      "['Pedro', 'Marcos', 'Cristian']\n",
      "False\n"
     ]
    }
   ],
   "source": [
    "telefonos = {'Pedro':2652, 'Juan':4545, 'Marcos':4889}\n",
    "print(telefonos)\n",
    "\n",
    "# insertamos\n",
    "telefonos['Cristian'] = 4568\n",
    "print(telefonos)\n",
    "\n",
    "# borramos\n",
    "del telefonos['Juan']\n",
    "print(telefonos)\n",
    "\n",
    "# Armamos una lista del diccionario\n",
    "print(list(telefonos))\n",
    "\n",
    "# me pregunto si andres esta en la lista\n",
    "\n",
    "print('Andres' in telefonos)\n"
   ]
  },
  {
   "cell_type": "markdown",
   "metadata": {},
   "source": [
    "Ecuaciones en linea de $H(s)$ \n",
    "\n",
    "Ecuaciones en bloque\n",
    "$$ H(s) = \\begin{bmatrix} h_{11}(s) & h_{12}(s) \\\\\n",
    "h_{21}(s) & h_{22}(s)\\end{bmatrix}$$"
   ]
  },
  {
   "cell_type": "markdown",
   "metadata": {},
   "source": []
  },
  {
   "cell_type": "code",
   "execution_count": 127,
   "metadata": {},
   "outputs": [
    {
     "name": "stdout",
     "output_type": "stream",
     "text": [
      "['LinAlgError', '__all__', '__builtins__', '__cached__', '__doc__', '__file__', '__loader__', '__name__', '__package__', '__path__', '__spec__', '_umath_linalg', 'cholesky', 'cond', 'det', 'eig', 'eigh', 'eigvals', 'eigvalsh', 'inv', 'linalg', 'lstsq', 'matrix_power', 'matrix_rank', 'multi_dot', 'norm', 'pinv', 'qr', 'slogdet', 'solve', 'svd', 'tensorinv', 'tensorsolve', 'test']\n"
     ]
    }
   ],
   "source": [
    "print(dir(np.linalg))\n"
   ]
  },
  {
   "cell_type": "code",
   "execution_count": 128,
   "metadata": {},
   "outputs": [
    {
     "name": "stdout",
     "output_type": "stream",
     "text": [
      "[[1 2 3]\n",
      " [4 5 6]\n",
      " [7 8 9]]\n",
      "0.0\n",
      "-27.0\n",
      "[[ 1.00000000e+00  0.00000000e+00 -2.22044605e-16]\n",
      " [-2.77555756e-17  1.00000000e+00  1.33226763e-15]\n",
      " [ 6.93889390e-17 -2.66453526e-15  1.00000000e+00]]\n"
     ]
    }
   ],
   "source": [
    "A = np.array([[1,2,3], [4,5,6], [7,8,9]])\n",
    "print(A)\n",
    "print(np.linalg.det(A))\n",
    "A = np.array([[10,2,3], [4,5,6], [7,8,9]])\n",
    "print(np.linalg.det(A))\n",
    "B = np.linalg.inv(A)\n",
    "print(np.dot(A,B))"
   ]
  }
 ],
 "metadata": {
  "kernelspec": {
   "display_name": "env",
   "language": "python",
   "name": "python3"
  },
  "language_info": {
   "codemirror_mode": {
    "name": "ipython",
    "version": 3
   },
   "file_extension": ".py",
   "mimetype": "text/x-python",
   "name": "python",
   "nbconvert_exporter": "python",
   "pygments_lexer": "ipython3",
   "version": "3.10.4"
  },
  "orig_nbformat": 4
 },
 "nbformat": 4,
 "nbformat_minor": 2
}
