{
 "cells": [
  {
   "cell_type": "markdown",
   "metadata": {},
   "source": [
    "### Pcd Scara\n",
    "Vamos a resolver la cinematica directa del robot scara\n",
    "\n",
    "![Alt text](image.png)\n"
   ]
  },
  {
   "cell_type": "code",
   "execution_count": 1,
   "metadata": {},
   "outputs": [],
   "source": [
    "def pcd_SCARA():\n",
    "    \"\"\"\n",
    "    Esta funcion calcula el problema cinematico directo del Robot SCARA\n",
    "\n",
    "    Parameters\n",
    "    ---------- \n",
    "    q: array_like\n",
    "        Valores de las variables articulares\n",
    "    a: array_like\n",
    "        Parametros constructivos del robot\n",
    "    Returns\n",
    "    -------\n",
    "    A4_0 : matrix\n",
    "        Devuelve la matriz de rototraslacion A4_0\n",
    "      \n",
    "    See Also\n",
    "    --------\n",
    "    \n",
    "    Examples\n",
    "    --------\n",
    "    \n",
    "    \"\"\"\n",
    "    pass\n",
    "    # As = np.array([[0,-v[2],v[1]],\n",
    "    #                [v[2], 0 , -v[0]],\n",
    "    #                [-v[1], v[0], 0]])\n",
    "    # return As\n",
    "\n",
    "pcd_SCARA()"
   ]
  }
 ],
 "metadata": {
  "kernelspec": {
   "display_name": "env",
   "language": "python",
   "name": "python3"
  },
  "language_info": {
   "codemirror_mode": {
    "name": "ipython",
    "version": 3
   },
   "file_extension": ".py",
   "mimetype": "text/x-python",
   "name": "python",
   "nbconvert_exporter": "python",
   "pygments_lexer": "ipython3",
   "version": "3.10.4"
  },
  "orig_nbformat": 4
 },
 "nbformat": 4,
 "nbformat_minor": 2
}
