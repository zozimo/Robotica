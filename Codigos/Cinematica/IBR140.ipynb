{
 "cells": [
  {
   "cell_type": "markdown",
   "metadata": {},
   "source": [
    "### Pcd IBR140\n",
    "Vamos a resolver la cinematica directa del robot IRB140\n",
    "\n",
    "![Alt text](imagenes\\IRB140\\image.png)"
   ]
  },
  {
   "cell_type": "code",
   "execution_count": 2,
   "metadata": {},
   "outputs": [
    {
     "name": "stdout",
     "output_type": "stream",
     "text": [
      "⎡-1  0  0   450⎤\n",
      "⎢              ⎥\n",
      "⎢0   1  0    0 ⎥\n",
      "⎢              ⎥\n",
      "⎢0   0  -1  360⎥\n",
      "⎢              ⎥\n",
      "⎣0   0  0    1 ⎦\n"
     ]
    },
    {
     "data": {
      "text/latex": [
       "$\\displaystyle \\pi$"
      ],
      "text/plain": [
       "pi"
      ]
     },
     "execution_count": 2,
     "metadata": {},
     "output_type": "execute_result"
    }
   ],
   "source": [
    "from recursos_robotica.CinematicaRec import *\n",
    "import numpy as np\n",
    "import sympy as sp\n",
    "# Parametros de Denavit y Hartenberg para el robot IRB140\n",
    "d = sp.zeros(1,6)\n",
    "# d4\n",
    "d[3] = 380\n",
    "a = sp.zeros(1,6)\n",
    "# a1\n",
    "a[0] = 70\n",
    "# a2\n",
    "a[1] = 360\n",
    "alpha = sp.Matrix([sp.rad(-90),sp.rad(0),sp.rad(90),sp.rad(-90),sp.rad(90),sp.rad(0)])\n",
    "# Parametros articulares\n",
    "q = sp.Matrix([sp.rad(0),sp.rad(-90),sp.rad(180),sp.rad(0),sp.rad(90),sp.rad(0)])\n",
    "# Resolvemos problema directo\n",
    "POSE, conf, A_i_j = pcd_IRB140(d,q,alpha,a)\n",
    "# sp.pprint(A_i_j)\n",
    "sp.pprint(POSE)\n",
    "sp.atan2(POSE[1,0],POSE[0,0])"
   ]
  },
  {
   "cell_type": "markdown",
   "metadata": {},
   "source": [
    "Para esta situacion tenemos \n",
    "\n",
    "Tengo la herramienta en  $450$ en $x_{0}$ y $360$ en $z_{0}$. Para la imagen tenemos $q = [-90,0,90,-90,90,0]^{T}$, Entonces nos queda $x_{6}$ queda en $-x_{0}$,  $y_{6}$ queda en $y_{0}$ y $z_{6}$ queda en $-z_{0}$.\n",
    "\n",
    "Como $conf_{1} > 0$ brazo positivo, $conf_{2} < 0$ codo negativo y $conf_{3} > 0$ muñeca positiva(neg según el profe), \n",
    "\n",
    "![Alt text](imagenes\\IRB140\\image-1.png)"
   ]
  },
  {
   "cell_type": "markdown",
   "metadata": {},
   "source": [
    "### Pci IBR140\n",
    "Vamos a resolver la cinematica inverso para el IRB140\n",
    "\n",
    "![Alt text](imagenes\\IRB140\\image-2.png)"
   ]
  },
  {
   "cell_type": "code",
   "execution_count": 14,
   "metadata": {},
   "outputs": [
    {
     "name": "stdout",
     "output_type": "stream",
     "text": [
      "POSE\n",
      "⎡-1  0  0   450⎤\n",
      "⎢              ⎥\n",
      "⎢0   1  0    0 ⎥\n",
      "⎢              ⎥\n",
      "⎢0   0  -1  360⎥\n",
      "⎢              ⎥\n",
      "⎣0   0  0    1 ⎦\n",
      "[1  -1  1]\n",
      "⎡   -π         π   ⎤\n",
      "⎢0  ───  π  0  ─  0⎥\n",
      "⎣    2         2   ⎦\n"
     ]
    }
   ],
   "source": [
    "\n",
    "# Parametros de Denavit y Hartenberg para el robot IRB140\n",
    "d = sp.zeros(1,6)\n",
    "# d4\n",
    "d[3] = 380\n",
    "a = sp.zeros(1,6)\n",
    "# a1\n",
    "a[0] = 70\n",
    "# a2\n",
    "a[1] = 360\n",
    "alpha = sp.Matrix([sp.rad(-90),sp.rad(0),sp.rad(90),sp.rad(-90),sp.rad(90),sp.rad(0)])\n",
    "# Parametros articulares\n",
    "q = sp.Matrix([sp.rad(0),sp.rad(-90),sp.rad(180),sp.rad(0),sp.rad(90),sp.rad(0)])\n",
    "# Resolvemos problema directo\n",
    "POSE, conf, A_i_j = pcd_IRB140(d,q,alpha,a)\n",
    "\n",
    "# Problema inverso\n",
    "print(\"POSE\")\n",
    "sp.pprint(POSE)\n",
    "sp.pprint(conf)\n",
    "q1_actual = 0\n",
    "q4_actual = 0\n",
    "\n",
    "q = pinv_IRB140(POSE,conf,q1_actual,q4_actual,d,alpha,a)\n",
    "sp.pprint(q)"
   ]
  },
  {
   "cell_type": "code",
   "execution_count": 4,
   "metadata": {},
   "outputs": [
    {
     "name": "stdout",
     "output_type": "stream",
     "text": [
      "[3.14159265358979  -3.09857653810969  2.6630046119094  3.14159265358979  2.706\n",
      "0207273895  0]\n"
     ]
    }
   ],
   "source": [
    "q = pinv_IRB140(POSE,sp.Matrix([-1,-1,1]),q1_actual,q4_actual,d,alpha,a)\n",
    "sp.pprint(q.evalf())"
   ]
  },
  {
   "cell_type": "markdown",
   "metadata": {},
   "source": [
    "En este caso al poner $conf_{1} = -1$ estoy con brazo negativo o atras, entonces el sefundo angulo me da mayor que antes, es como de la rotación inicial todavía lo tuve que rotar mas para llegar al punto destino como se ve en la figura \n",
    "\n",
    "![Alt text](imagenes\\IRB140\\image-3.png)\n",
    "\n",
    "Ahora quiero ver si con ese q que me dio aplico nuevamente el problema directo a ver si me lleva a la POSE destino"
   ]
  },
  {
   "cell_type": "code",
   "execution_count": 5,
   "metadata": {},
   "outputs": [
    {
     "name": "stdout",
     "output_type": "stream",
     "text": [
      "⎡ -1.0     0   0.e-125  450.0⎤\n",
      "⎢                            ⎥\n",
      "⎢   0     1.0     0       0  ⎥\n",
      "⎢                            ⎥\n",
      "⎢0.e-125   0    -1.0    360.0⎥\n",
      "⎢                            ⎥\n",
      "⎣   0      0      0      1.0 ⎦\n",
      "[-1  -1  1]\n"
     ]
    }
   ],
   "source": [
    "POSE, conf , A_i_j = pcd_IRB140(d,q,alpha,a)\n",
    "sp.pprint(POSE.evalf())\n",
    "sp.pprint(conf)"
   ]
  },
  {
   "cell_type": "markdown",
   "metadata": {},
   "source": [
    "Vemos que nos da la misma POSE\n",
    "\n",
    "## Multiples soluciones de la muñeca\n",
    "\n",
    "solo hay que poner un cero en q5, los ejes 4 y 6 quedan alineados y $q_{4}$ y $q_{6}$ se compensan\n",
    "\n",
    "![Alt text](imagenes/IRB140/image-4.png)\n"
   ]
  },
  {
   "cell_type": "code",
   "execution_count": 6,
   "metadata": {},
   "outputs": [
    {
     "name": "stdout",
     "output_type": "stream",
     "text": [
      "⎡ 0    0   1.0  450.0⎤\n",
      "⎢                    ⎥\n",
      "⎢1.0   0    0     0  ⎥\n",
      "⎢                    ⎥\n",
      "⎢ 0   1.0   0   360.0⎥\n",
      "⎢                    ⎥\n",
      "⎣ 0    0    0    1.0 ⎦\n",
      "[1  -1  1]\n"
     ]
    }
   ],
   "source": [
    "# PDC\n",
    "q = sp.Matrix([sp.rad(0),sp.rad(-90),sp.rad(180),sp.rad(0),sp.rad(0),sp.rad(90)])\n",
    "POSE, conf, A_i_j = pcd_IRB140(d,q,alpha,a)\n",
    "sp.pprint(POSE.evalf())\n",
    "sp.pprint(conf)"
   ]
  },
  {
   "cell_type": "code",
   "execution_count": 7,
   "metadata": {},
   "outputs": [
    {
     "name": "stdout",
     "output_type": "stream",
     "text": [
      "⎡   -π            π⎤\n",
      "⎢0  ───  π  0  0  ─⎥\n",
      "⎣    2            2⎦\n"
     ]
    }
   ],
   "source": [
    "# PIC\n",
    "q = pinv_IRB140(POSE,conf,q1_actual,q4_actual,d,alpha,a)\n",
    "sp.pprint(q)"
   ]
  },
  {
   "cell_type": "code",
   "execution_count": 8,
   "metadata": {},
   "outputs": [
    {
     "name": "stdout",
     "output_type": "stream",
     "text": [
      "⎡   -π                     π⎤\n",
      "⎢0  ───  π  0.1  0  -0.1 + ─⎥\n",
      "⎣    2                     2⎦\n"
     ]
    }
   ],
   "source": [
    "# Indico que mi valor actual de q4 actual es 0.1\n",
    "q = pinv_IRB140(POSE,conf,q1_actual,0.1,d,alpha,a)\n",
    "sp.pprint(q)"
   ]
  },
  {
   "cell_type": "markdown",
   "metadata": {},
   "source": [
    "Vemo que entre $q_{4} + q_{6}$ suman $\\frac{\\pi}{2}$, vamos a ver a donde vamos a parar con este q"
   ]
  },
  {
   "cell_type": "code",
   "execution_count": 9,
   "metadata": {},
   "outputs": [
    {
     "name": "stdout",
     "output_type": "stream",
     "text": [
      "⎡ 0    0   1.0  450.0⎤\n",
      "⎢                    ⎥\n",
      "⎢1.0   0    0     0  ⎥\n",
      "⎢                    ⎥\n",
      "⎢ 0   1.0   0   360.0⎥\n",
      "⎢                    ⎥\n",
      "⎣ 0    0    0    1.0 ⎦\n",
      "[1  -1  1]\n"
     ]
    }
   ],
   "source": [
    "q = sp.Matrix([sp.rad(0),sp.rad(-90),sp.rad(180),sp.rad(0),sp.rad(0),sp.rad(90)])\n",
    "POSE, conf, A_i_j = pcd_IRB140(d,q,alpha,a)\n",
    "sp.pprint(POSE.evalf())\n",
    "sp.pprint(conf)"
   ]
  },
  {
   "cell_type": "markdown",
   "metadata": {},
   "source": [
    "Vemos que vamos a parar al mismo lugar, con la misma orientación, por eso es que tenemos infinitas soluciones en definitiva vamos a elegir una deacuerdo al valor de q anterior que tengamos"
   ]
  },
  {
   "cell_type": "markdown",
   "metadata": {},
   "source": [
    "## Examen\n",
    "El examen consistira en ver si programamos bien probando, Nos preguntaran datos puntuales de los problemas cinematicos directos e inversos del Scara y el IRB140 \n",
    "\n",
    "1. Dada determinado POSE, ¿que variable articular para el Eje 1 se tiene?\n",
    "2. Dada determinado POSE, ¿Cual es la orientación de determinado eslabon, ojo con eso ?\n",
    "Esto se saca con el problema inverso, calculamos las variables articulares y despues vamos con el problema directo hasta un determinado eslabón y nos fijamos cual es la matriz R que tenemos hasta ese Elabón"
   ]
  }
 ],
 "metadata": {
  "kernelspec": {
   "display_name": "env",
   "language": "python",
   "name": "python3"
  },
  "language_info": {
   "codemirror_mode": {
    "name": "ipython",
    "version": 3
   },
   "file_extension": ".py",
   "mimetype": "text/x-python",
   "name": "python",
   "nbconvert_exporter": "python",
   "pygments_lexer": "ipython3",
   "version": "3.10.4"
  },
  "orig_nbformat": 4
 },
 "nbformat": 4,
 "nbformat_minor": 2
}
