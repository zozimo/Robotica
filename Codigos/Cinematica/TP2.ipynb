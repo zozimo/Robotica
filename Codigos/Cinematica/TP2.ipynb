{
 "cells": [
  {
   "cell_type": "markdown",
   "metadata": {},
   "source": [
    "Ej1\n",
    "![Alt text](image.png)"
   ]
  },
  {
   "cell_type": "code",
   "execution_count": 2,
   "metadata": {},
   "outputs": [
    {
     "name": "stdout",
     "output_type": "stream",
     "text": [
      "[-168.69006752598  -127.07305279777  54.3359815824548  0  72.7370712153156  16\n",
      "8.69006752598]\n",
      "⎡         1.0                     0            3.33066907387547e-16  500.09364\n",
      "⎢                                                                             \n",
      "⎢2.77555756156289e-17            1.0           2.77555756156289e-17  100.01872\n",
      "⎢                                                                             \n",
      "⎢-2.17732648730911e-16  -4.35465297461821e-17          1.0           400.02967\n",
      "⎢                                                                             \n",
      "⎣          0                      0                     0                   1 \n",
      "\n",
      "0846346⎤\n",
      "       ⎥\n",
      "8169269⎥\n",
      "       ⎥\n",
      "5706754⎥\n",
      "       ⎥\n",
      "       ⎦\n"
     ]
    }
   ],
   "source": [
    "from recursos_robotica.CinematicaRec import *\n",
    "from recursos_robotica.RotoTraslaciones import *\n",
    "import numpy as np\n",
    "import sympy as sp\n",
    "\n",
    "# Parametros de Denavit y Hartenberg para el robot IRB140\n",
    "d = sp.zeros(1,6)\n",
    "# d4\n",
    "d[3] = 380\n",
    "a = sp.zeros(1,6)\n",
    "# a1\n",
    "a[0] = 70\n",
    "# a2\n",
    "a[1] = 360\n",
    "alpha = sp.Matrix([sp.rad(-90),sp.rad(0),sp.rad(90),sp.rad(-90),sp.rad(90),sp.rad(0)])\n",
    "# Parametros articulares\n",
    "# q = sp.Matrix([sp.rad(0),sp.rad(-90),sp.rad(180),sp.rad(0),sp.rad(90),sp.rad(0)])\n",
    "# # Resolvemos problema directo\n",
    "# POSE, conf = pcd_IRB140(d,q,alpha,a)\n",
    "POSE = sp.Matrix([[1,0,0,500],\n",
    "                  [0,1,0,100],\n",
    "                  [0,0,1,400],\n",
    "                  [0,0,0,1]])\n",
    "conf = sp.Matrix([-1,1,1])\n",
    "q1_actual = 0\n",
    "q4_actual = 0\n",
    "q = pinv_IRB140(POSE,conf,q1_actual,q4_actual,d,alpha,a)\n",
    "q = q.evalf()\n",
    "sp.pprint(sp.deg(q).evalf())\n",
    "d[3] = 380.1\n",
    "POSE, conf, A_i_j = pcd_IRB140(d,q,alpha,a)\n",
    "sp.pprint(POSE)"
   ]
  },
  {
   "cell_type": "code",
   "execution_count": 3,
   "metadata": {},
   "outputs": [
    {
     "name": "stdout",
     "output_type": "stream",
     "text": [
      "⎡-1.0   0    0  ⎤\n",
      "⎢               ⎥\n",
      "⎢ 0    1.0   0  ⎥\n",
      "⎢               ⎥\n",
      "⎣ 0     0   -1.0⎦\n"
     ]
    }
   ],
   "source": [
    "p = sp.Matrix([0,0,650]) \n",
    "R = qToR(sp.Matrix([0,0,1,0] ))\n",
    "sp.pprint(R)"
   ]
  },
  {
   "cell_type": "code",
   "execution_count": null,
   "metadata": {},
   "outputs": [
    {
     "data": {
      "text/plain": [
       "0.0936399999999935"
      ]
     },
     "execution_count": 89,
     "metadata": {},
     "output_type": "execute_result"
    }
   ],
   "source": [
    "500.09364-500\n"
   ]
  },
  {
   "cell_type": "markdown",
   "metadata": {},
   "source": [
    "![Alt text](image-1.png)"
   ]
  },
  {
   "cell_type": "code",
   "execution_count": null,
   "metadata": {},
   "outputs": [
    {
     "name": "stdout",
     "output_type": "stream",
     "text": [
      "⎡                   π         π                    ⎤\n",
      "⎢0.394791119699761  ─  0.1  - ─ - 0.394791119699761⎥\n",
      "⎣                   2         2                    ⎦\n"
     ]
    }
   ],
   "source": [
    "a = sp.Matrix([0.3,0.2])\n",
    "# q = sp.Matrix([sp.rad(-90),0,0,0])\n",
    "A_0_4 = sp.Matrix([[1,0,0,0.2],\n",
    "                   [0,1,0,0.3],\n",
    "                   [0,0,1,0.1],\n",
    "                   [0,0,0,1]]) \n",
    "conf = 1\n",
    "q = pinv_SCARA(A_0_4,conf,a)\n",
    "\n",
    "sp.pprint(q)"
   ]
  },
  {
   "cell_type": "markdown",
   "metadata": {},
   "source": [
    "RTA: 0.39"
   ]
  },
  {
   "cell_type": "markdown",
   "metadata": {},
   "source": [
    "![Alt text](image-2.png)"
   ]
  },
  {
   "cell_type": "code",
   "execution_count": null,
   "metadata": {},
   "outputs": [
    {
     "name": "stdout",
     "output_type": "stream",
     "text": [
      "⎡0.200700943898284   0.979652556327159   0   0.259807621135332⎤\n",
      "⎢                                                             ⎥\n",
      "⎢-0.979652556327159  0.200700943898284   0         -0.15      ⎥\n",
      "⎢                                                             ⎥\n",
      "⎢        0                   0          1.0        100.0      ⎥\n",
      "⎢                                                             ⎥\n",
      "⎣        0                   0           0          1.0       ⎦\n"
     ]
    },
    {
     "data": {
      "text/latex": [
       "$\\displaystyle -1.36872295583066$"
      ],
      "text/plain": [
       "-1.36872295583066"
      ]
     },
     "execution_count": 103,
     "metadata": {},
     "output_type": "execute_result"
    }
   ],
   "source": [
    "a = sp.Matrix([0.2,0.3])\n",
    "q = sp.Matrix([sp.pi/3,-sp.pi/6,100,-0.1*sp.pi])\n",
    "# q = sp.Matrix([sp.rad(-90),0,0,0])\n",
    "A4_0, conf, A_i_j = pcd_SCARA(q,a)\n",
    "# sp.pprint(A_0_4.evalf())\n",
    "# sp.pprint(conf)\n",
    "# sp.pprint(A_i_j[0].evalf())\n",
    "A4_1 = A_i_j[1]*A_i_j[2]*A_i_j[3]\n",
    "# A4_1_v2 =  A_i_j[0].T * A4_0\n",
    "sp.pprint(A4_1.evalf())\n",
    "# sp.pprint(A4_1_v2.evalf())\n",
    "sp.atan2(A4_1[1,0],A4_1[0,0]).evalf()\n",
    "\n"
   ]
  },
  {
   "cell_type": "code",
   "execution_count": null,
   "metadata": {},
   "outputs": [
    {
     "data": {
      "text/latex": [
       "$\\displaystyle -0.837758040957278$"
      ],
      "text/plain": [
       "-0.837758040957278"
      ]
     },
     "execution_count": 107,
     "metadata": {},
     "output_type": "execute_result"
    }
   ],
   "source": [
    "(-0.1*sp.pi-(sp.pi/6)).evalf()"
   ]
  },
  {
   "cell_type": "markdown",
   "metadata": {},
   "source": [
    "RTA = -0.32 rad"
   ]
  },
  {
   "cell_type": "markdown",
   "metadata": {},
   "source": [
    "![Alt text](image-3.png)"
   ]
  },
  {
   "cell_type": "code",
   "execution_count": null,
   "metadata": {},
   "outputs": [
    {
     "name": "stdout",
     "output_type": "stream",
     "text": [
      "⎡1.0   0    0    0 ⎤\n",
      "⎢                  ⎥\n",
      "⎢ 0   1.0   0    0 ⎥\n",
      "⎢                  ⎥\n",
      "⎢ 0    0   1.0  650⎥\n",
      "⎢                  ⎥\n",
      "⎣ 0    0    0    1 ⎦\n",
      "[0  -124.91700734557  145.897680623  180.0  20.9806732774308  180.0]\n",
      "[180.0  -124.91700734557  145.897680623  180.0  20.9806732774308  0]\n",
      "⎡         1.0            0   1.92429982513011e-16  0.e-122⎤\n",
      "⎢                                                         ⎥\n",
      "⎢          0            1.0           0               0   ⎥\n",
      "⎢                                                         ⎥\n",
      "⎢-1.92429982513011e-16   0           1.0            650.0 ⎥\n",
      "⎢                                                         ⎥\n",
      "⎣          0             0            0              1.0  ⎦\n"
     ]
    }
   ],
   "source": [
    "p = sp.Matrix([0,0,650]) \n",
    "R = qToR(sp.Matrix([0,0,1,0] ))\n",
    "sp.pprint(R)\n",
    "conf = sp.Matrix([1,-1,1]) \n",
    "Ar = R.col_insert(3, p)\n",
    "relleno = sp.Matrix([[0, 0, 0, 1]])\n",
    "Ar = Ar.row_insert(3, relleno) \n",
    "# Imprimo la POSE\n",
    "sp.pprint(Ar)\n",
    "\n",
    "\n",
    "# Parametros de Denavit y Hartenberg para el robot IRB140\n",
    "d = sp.zeros(1,6)\n",
    "# d4\n",
    "d[3] = 380\n",
    "a = sp.zeros(1,6)\n",
    "# a1\n",
    "a[0] = 70\n",
    "# a2\n",
    "a[1] = 360\n",
    "alpha = sp.Matrix([sp.rad(-90),sp.rad(0),sp.rad(90),sp.rad(-90),sp.rad(90),sp.rad(0)])\n",
    "# Parametros articulares\n",
    "# q = sp.Matrix([sp.rad(0),sp.rad(-90),sp.rad(180),sp.rad(0),sp.rad(90),sp.rad(0)])\n",
    "# # Resolvemos problema directo\n",
    "# POSE, conf = pcd_IRB140(d,q,alpha,a)\n",
    "q1_actual = 0\n",
    "q4_actual = 0\n",
    "q = pinv_IRB140(Ar,conf,q1_actual,q4_actual,d,alpha,a)\n",
    "sp.pprint(sp.deg(q).evalf())\n",
    "q[0] =  sp.rad(180)\n",
    "q[5] =  sp.rad(0)\n",
    "# q = q.evalf()\n",
    "sp.pprint(sp.deg(q).evalf())\n",
    "POSE, conf, A_i_j = pcd_IRB140(d,q,alpha,a)\n",
    "sp.pprint(POSE.evalf())\n",
    "\n"
   ]
  },
  {
   "cell_type": "markdown",
   "metadata": {},
   "source": [
    "RTA = C"
   ]
  },
  {
   "cell_type": "markdown",
   "metadata": {},
   "source": [
    "![Alt text](image-4.png)"
   ]
  },
  {
   "cell_type": "markdown",
   "metadata": {},
   "source": [
    "RTA B \n",
    "RTA C"
   ]
  },
  {
   "cell_type": "code",
   "execution_count": null,
   "metadata": {},
   "outputs": [
    {
     "name": "stdout",
     "output_type": "stream",
     "text": [
      "⎡-1.0   0    0    450.0⎤\n",
      "⎢                      ⎥\n",
      "⎢ 0    1.0   0      0  ⎥\n",
      "⎢                      ⎥\n",
      "⎢ 0     0   -1.0  360.0⎥\n",
      "⎢                      ⎥\n",
      "⎣ 0     0    0     1.0 ⎦\n",
      "⎡0  0  1  0⎤\n",
      "⎢          ⎥\n",
      "⎢1  0  0  0⎥\n",
      "⎢          ⎥\n",
      "⎢0  1  0  0⎥\n",
      "⎢          ⎥\n",
      "⎣0  0  0  1⎦\n"
     ]
    }
   ],
   "source": [
    "# Parametros de Denavit y Hartenberg para el robot IRB140\n",
    "d = sp.zeros(1,6)\n",
    "# d4\n",
    "d[3] = 380\n",
    "a = sp.zeros(1,6)\n",
    "# a1\n",
    "a[0] = 70\n",
    "# a2\n",
    "a[1] = 360\n",
    "alpha = sp.Matrix([sp.rad(-90),sp.rad(0),sp.rad(90),sp.rad(-90),sp.rad(90),sp.rad(0)])\n",
    "# Parametros articulares\n",
    "q = sp.Matrix([sp.rad(0),sp.rad(-90),sp.rad(180),sp.rad(0),sp.rad(90),sp.rad(0)])\n",
    "# # Resolvemos problema directo\n",
    "# POSE, conf = pcd_IRB140(d,q,alpha,a)\n",
    "q1_actual = 0\n",
    "q4_actual = 0\n",
    "# q = pinv_IRB140(Ar,conf,q1_actual,q4_actual,d,alpha,a)\n",
    "# sp.pprint(sp.deg(q).evalf())\n",
    "# q[0] =  sp.rad(180)\n",
    "# q[5] =  sp.rad(0)\n",
    "# q = q.evalf()\n",
    "# sp.pprint(sp.deg(q).evalf())\n",
    "POSE, conf, A_i_j = pcd_IRB140(d,q,alpha,a)\n",
    "sp.pprint(POSE.evalf())\n",
    "# sp.pprint(A_i_j)\n",
    "A6_4 = A_i_j[4]*A_i_j[5]\n",
    "sp.pprint(A6_4)"
   ]
  },
  {
   "cell_type": "code",
   "execution_count": null,
   "metadata": {},
   "outputs": [],
   "source": [
    "from recursos_robotica.CinematicaRec import *\n",
    "from recursos_robotica.RotoTraslaciones import *\n",
    "import numpy as np\n",
    "import sympy as sp\n",
    "\n",
    "theta = sp.pi /2\n",
    "R = rotZ(theta)\n",
    "sp.pprint(rotZ(theta))\n",
    "sp.pprint(R*R.T)\n",
    "\n",
    "angulos = sp.Matrix([sp.rad(90),sp.rad(90),0])\n",
    "# sp.pprint(angulos)\n",
    "# Matriz de rotacion a partir de los angulos de Euler\n",
    "R = dirEuler(angulos)\n",
    "sp.pprint(R)\n",
    "\n",
    "angulos = invEuler(R,1)\n",
    "sp.pprint(angulos)"
   ]
  },
  {
   "cell_type": "markdown",
   "metadata": {},
   "source": []
  }
 ],
 "metadata": {
  "kernelspec": {
   "display_name": "env",
   "language": "python",
   "name": "python3"
  },
  "language_info": {
   "codemirror_mode": {
    "name": "ipython",
    "version": 3
   },
   "file_extension": ".py",
   "mimetype": "text/x-python",
   "name": "python",
   "nbconvert_exporter": "python",
   "pygments_lexer": "ipython3",
   "version": "3.10.4"
  },
  "orig_nbformat": 4
 },
 "nbformat": 4,
 "nbformat_minor": 2
}
