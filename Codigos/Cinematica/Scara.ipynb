{
 "cells": [
  {
   "cell_type": "markdown",
   "metadata": {},
   "source": [
    "### Pcd Scara\n",
    "Vamos a resolver la cinematica directa del robot scara\n",
    "\n",
    "![Alt text](\\imagenes\\SCARA\\image.png)\n"
   ]
  },
  {
   "cell_type": "markdown",
   "metadata": {},
   "source": [
    "Esta matriz me dice que la orientación de la terna 4 me queda igual que la terna cero por el bloque identidad de 3x3, y me dice que el TCP o el origen de la terna 4 esta a 400 milimetros, osea tengo $0.4$ en $x_{0}$. Esto para el SCARA seria el brazo totalmente extendido\n",
    "\n",
    "Ahora tengo $0.4$ en $x_{0}$. Ahora $x_{4}$ queda mirando para la izquierda, visto desde $x_{0}$ queda positvo"
   ]
  },
  {
   "cell_type": "code",
   "execution_count": 11,
   "metadata": {},
   "outputs": [
    {
     "name": "stdout",
     "output_type": "stream",
     "text": [
      "⎛⎡0  -1  0   0 ⎤   ⎞\n",
      "⎜⎢             ⎥   ⎟\n",
      "⎜⎢1  0   0  0.4⎥   ⎟\n",
      "⎜⎢             ⎥, 1⎟\n",
      "⎜⎢0  0   1   0 ⎥   ⎟\n",
      "⎜⎢             ⎥   ⎟\n",
      "⎝⎣0  0   0   1 ⎦   ⎠\n"
     ]
    }
   ],
   "source": [
    "# from cinematicaRec import *\n",
    "from recursos_robotica.CinematicaRec import *\n",
    "import numpy as np\n",
    "import sympy as sp\n",
    "a = sp.Matrix([0.2,0.2])\n",
    "q = sp.Matrix([sp.rad(90),0,0,0])\n",
    "A_0_4 = pcd_SCARA(q,a)\n",
    "sp.pprint(A_0_4)"
   ]
  },
  {
   "cell_type": "markdown",
   "metadata": {},
   "source": [
    "Ahora tengo $0.4$ en $y_{0}$. Ponemos $q_{1} = \\frac{\\pi}{2}$, entonces todo el brazo queda mirando rotado 90 grados sobre $z_{0}$, y visto desde arriba queda hacia arriba. Ahora $x_{4}$ queda mirando para arriba, visto desde $y_{0}$ queda positvo, y el $y_{4}$ queda respecto la terna cero en $x_{0}$ negativo\n",
    "\n",
    "![Alt text](imagenes\\SCARA\\image-1.png)"
   ]
  },
  {
   "cell_type": "code",
   "execution_count": 12,
   "metadata": {},
   "outputs": [
    {
     "name": "stdout",
     "output_type": "stream",
     "text": [
      "⎛⎡0   1  0   0  ⎤   ⎞\n",
      "⎜⎢              ⎥   ⎟\n",
      "⎜⎢-1  0  0  -0.4⎥   ⎟\n",
      "⎜⎢              ⎥, 1⎟\n",
      "⎜⎢0   0  1   0  ⎥   ⎟\n",
      "⎜⎢              ⎥   ⎟\n",
      "⎝⎣0   0  0   1  ⎦   ⎠\n"
     ]
    }
   ],
   "source": [
    "a = sp.Matrix([0.2,0.2])\n",
    "q = sp.Matrix([sp.rad(-90),0,0,0])\n",
    "A_0_4 = pcd_SCARA(q,a)\n",
    "sp.pprint(A_0_4)"
   ]
  },
  {
   "cell_type": "markdown",
   "metadata": {},
   "source": [
    "Ahora tengo $0.4$ en -$y_{0}$. Ponemos $q_{1} = -\\frac{\\pi}{2}$, entonces todo el brazo queda  rotado $-90$ grados sobre $z_{0}$, y visto desde arriba queda hacia abajo. Ahora $x_{4}$ queda mirando para abajo, visto desde $y_{0}$ queda negativo, y el $y_{4}$ queda respecto la terna cero en $x_{0}$ positivo\n",
    "\n",
    "![Alt text](imagenes/image-1.png)"
   ]
  },
  {
   "cell_type": "code",
   "execution_count": 13,
   "metadata": {},
   "outputs": [
    {
     "name": "stdout",
     "output_type": "stream",
     "text": [
      "⎡0  -1  0  0.2⎤\n",
      "⎢             ⎥\n",
      "⎢1  0   0  0.2⎥\n",
      "⎢             ⎥\n",
      "⎢0  0   1   0 ⎥\n",
      "⎢             ⎥\n",
      "⎣0  0   0   1 ⎦\n",
      "1\n"
     ]
    }
   ],
   "source": [
    "a = sp.Matrix([0.2,0.2])\n",
    "q = sp.Matrix([0,sp.rad(90),0,0])\n",
    "A_0_4, conf = pcd_SCARA(q,a)\n",
    "sp.pprint(A_0_4)\n",
    "sp.pprint(conf)"
   ]
  },
  {
   "cell_type": "markdown",
   "metadata": {},
   "source": [
    "Ahora tengo $0.2$ en $x_{0}$ y $0.2$ en $y_{0}$. Ponemos $q_{2} = \\frac{\\pi}{2}$, entonces el brazo forma un L, $x_{4}$ queda en $y_{0}$,  $y_{4}$ queda en $-x_{0}$.\n",
    "\n",
    "Como $conf > 0$ estoy con codo positivo\n",
    "\n",
    "\n",
    "![Alt text](imagenes/image-1.png)"
   ]
  },
  {
   "cell_type": "markdown",
   "metadata": {},
   "source": [
    "### Pinv Scara\n",
    "Vamos a resolver la cinematica inversa del robot Scara\n",
    "\n",
    "![Alt text](imagenes\\SCARA\\image-2.png)\n",
    "\n",
    "![Alt text](imagenes\\SCARA\\image-3.png)\n",
    "\n",
    "![Alt text](imagenes\\SCARA\\image-4.png)"
   ]
  },
  {
   "cell_type": "code",
   "execution_count": 14,
   "metadata": {},
   "outputs": [
    {
     "name": "stdout",
     "output_type": "stream",
     "text": [
      "⎡1  0  0  -0.2⎤\n",
      "⎢             ⎥\n",
      "⎢0  1  0  0.2 ⎥\n",
      "⎢             ⎥\n",
      "⎢0  0  1   -1 ⎥\n",
      "⎢             ⎥\n",
      "⎣0  0  0   1  ⎦\n",
      "-1\n"
     ]
    },
    {
     "data": {
      "text/latex": [
       "$\\displaystyle \\left[\\begin{matrix}\\pi & - \\frac{\\pi}{2} & -1 & - \\frac{\\pi}{2}\\end{matrix}\\right]$"
      ],
      "text/plain": [
       "Matrix([[pi, -pi/2, -1, -pi/2]])"
      ]
     },
     "execution_count": 14,
     "metadata": {},
     "output_type": "execute_result"
    }
   ],
   "source": [
    "# from cinematicaRec import *\n",
    "\n",
    "\n",
    "a = sp.Matrix([0.2,0.2])\n",
    "q = sp.Matrix([sp.rad(180),sp.rad(-90),-1,sp.rad(-90)])\n",
    "A_0_4, conf = pcd_SCARA(q,a)\n",
    "sp.pprint(A_0_4)\n",
    "sp.pprint(conf)   \n",
    "    \n",
    "pinv_SCARA(A_0_4,conf,a)\n",
    "    \n"
   ]
  },
  {
   "cell_type": "code",
   "execution_count": 15,
   "metadata": {},
   "outputs": [
    {
     "name": "stdout",
     "output_type": "stream",
     "text": [
      "Matrix([[5, 8]])\n",
      "Matrix([[2, 4]])\n"
     ]
    },
    {
     "data": {
      "text/latex": [
       "$\\displaystyle 16$"
      ],
      "text/plain": [
       "16"
      ]
     },
     "execution_count": 15,
     "metadata": {},
     "output_type": "execute_result"
    }
   ],
   "source": [
    "q = sp.Matrix([[1,2,4],[1,3,4]])\n",
    "a = q[0,1:]+q[1,1:]\n",
    "print(a)\n",
    "print(q[0,1:])\n",
    "q[0,2]**2"
   ]
  }
 ],
 "metadata": {
  "kernelspec": {
   "display_name": "env",
   "language": "python",
   "name": "python3"
  },
  "language_info": {
   "codemirror_mode": {
    "name": "ipython",
    "version": 3
   },
   "file_extension": ".py",
   "mimetype": "text/x-python",
   "name": "python",
   "nbconvert_exporter": "python",
   "pygments_lexer": "ipython3",
   "version": "3.10.4"
  },
  "orig_nbformat": 4
 },
 "nbformat": 4,
 "nbformat_minor": 2
}
