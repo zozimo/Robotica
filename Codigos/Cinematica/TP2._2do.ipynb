{
 "cells": [
  {
   "cell_type": "markdown",
   "metadata": {},
   "source": [
    "![Alt text](\\imagenes\\TP2_SegundioIntento\\image.png)\n"
   ]
  },
  {
   "cell_type": "code",
   "execution_count": null,
   "metadata": {},
   "outputs": [],
   "source": [
    "from recursos_robotica.CinematicaRec import *\n",
    "from recursos_robotica.RotoTraslaciones import *\n",
    "import numpy as np\n",
    "import sympy as sp\n",
    "\n",
    "a = sp.Matrix([0.2,0.3])\n",
    "q = sp.Matrix([sp.pi/3,-sp.pi/6,100,-0.1*sp.pi])\n",
    "# q = sp.Matrix([sp.rad(-90),0,0,0])\n",
    "A4_0, conf, A_i_j = pcd_SCARA(q,a)\n",
    "# sp.pprint(A_0_4.evalf())\n",
    "# sp.pprint(conf)\n",
    "# sp.pprint(A_i_j[0].evalf())\n",
    "A4_2=A_i_j[2]*A_i_j[3]\n",
    "# A4_1_v2 =  A_i_j[0].T * A4_0\n",
    "sp.pprint(A4_2.evalf())\n",
    "# sp.pprint(A4_1_v2.evalf())\n",
    "sp.atan2(A4_2[1,0],A4_2[0,0]).evalf()"
   ]
  },
  {
   "cell_type": "code",
   "execution_count": null,
   "metadata": {},
   "outputs": [],
   "source": [
    "(-0.1*sp.pi).evalf()"
   ]
  },
  {
   "cell_type": "markdown",
   "metadata": {},
   "source": [
    "![Alt text](\\imagenes\\TP2_SegundioIntento\\image-1.png)"
   ]
  },
  {
   "cell_type": "code",
   "execution_count": null,
   "metadata": {},
   "outputs": [],
   "source": [
    "a = sp.Matrix([0.2,0.3])\n",
    "# q = sp.Matrix([sp.rad(-90),0,0,0])\n",
    "A_4_0 = sp.Matrix([[1,0,0,0.5],\n",
    "                   [0,1,0,0],\n",
    "                   [0,0,1,0.1],\n",
    "                   [0,0,0,1]]) \n",
    "conf = -1\n",
    "q = pinv_SCARA(A_4_0,conf,a)\n",
    "\n",
    "sp.pprint(q)"
   ]
  },
  {
   "cell_type": "markdown",
   "metadata": {},
   "source": [
    "![Alt text](\\imagenes\\TP2_SegundioIntento\\image-2.png)"
   ]
  },
  {
   "cell_type": "code",
   "execution_count": null,
   "metadata": {},
   "outputs": [],
   "source": [
    "from recursos_robotica.CinematicaRec import *\n",
    "from recursos_robotica.RotoTraslaciones import *\n",
    "import numpy as np\n",
    "import sympy as sp\n",
    "\n",
    "# Parametros de Denavit y Hartenberg para el robot IRB140\n",
    "d = sp.zeros(1,6)\n",
    "# d4\n",
    "d[3] = 380\n",
    "a = sp.zeros(1,6)\n",
    "# a1\n",
    "a[0] = 70\n",
    "# a2\n",
    "a[1] = 360\n",
    "alpha = sp.Matrix([sp.rad(-90),sp.rad(0),sp.rad(90),sp.rad(-90),sp.rad(90),sp.rad(0)])\n",
    "# Parametros articulares\n",
    "# q = sp.Matrix([sp.rad(0),sp.rad(-90),sp.rad(180),sp.rad(0),sp.rad(90),sp.rad(0)])\n",
    "# # Resolvemos problema directo\n",
    "# POSE, conf = pcd_IRB140(d,q,alpha,a)\n",
    "POSE = sp.Matrix([[1,0,0,200],\n",
    "                  [0,-1,0,210],\n",
    "                  [0,0,-1,550],\n",
    "                  [0,0,0,1]])\n",
    "# conf = sp.Matrix([1,1,1])\n",
    "# q1_actual = 0\n",
    "# q4_actual = 0\n",
    "# q = pinv_IRB140(POSE,conf,q1_actual,q4_actual,d,alpha,a)\n",
    "# q = q.evalf()\n",
    "# print(\"Cuaterniones\")\n",
    "# sp.pprint(sp.deg(q).evalf())\n",
    "# POSE, conf, A_i_j = pcd_IRB140(d,q,alpha,a)\n",
    "# sp.pprint(POSE)\n",
    "\n",
    "\n",
    "p = sp.Matrix([10,10,100]) \n",
    "R = qToR(sp.Matrix([0,0,0,1] ))\n",
    "# sp.pprint(R)\n",
    "# conf = sp.Matrix([1,-1,1]) \n",
    "Atool_6 = R.col_insert(3, p)\n",
    "relleno = sp.Matrix([[0, 0, 0, 1]])\n",
    "Atool_6 = Atool_6.row_insert(3, relleno) \n",
    "\n",
    "A6_0 = POSE *Atool_6.T\n",
    "conf = sp.Matrix([1,1,1])\n",
    "q1_actual = 0\n",
    "q4_actual = 0\n",
    "q = pinv_IRB140(A6_0,conf,q1_actual,q4_actual,d,alpha,a)\n",
    "q = q.evalf()\n",
    "print(\"Cuaterniones\")\n",
    "sp.pprint(sp.deg(q).evalf())\n",
    "# Imprimo la POSE\n",
    "sp.pprint(Atool_6)"
   ]
  },
  {
   "cell_type": "markdown",
   "metadata": {},
   "source": [
    "![Alt text](\\imagenes\\TP2_SegundioIntento\\image-3.png)"
   ]
  },
  {
   "cell_type": "code",
   "execution_count": null,
   "metadata": {},
   "outputs": [],
   "source": [
    "p = sp.Matrix([0,0,650]) \n",
    "R = qToR(sp.Matrix([1,0,0,0] ))\n",
    "# sp.pprint(R)\n",
    "conf = sp.Matrix([1,-1,1]) \n",
    "Ar = R.col_insert(3, p)\n",
    "relleno = sp.Matrix([[0, 0, 0, 1]])\n",
    "Ar = Ar.row_insert(3, relleno) \n",
    "# Imprimo la POSE\n",
    "sp.pprint(Ar)\n",
    "\n",
    "\n",
    "# Parametros de Denavit y Hartenberg para el robot IRB140\n",
    "d = sp.zeros(1,6)\n",
    "# d4\n",
    "d[3] = 380\n",
    "a = sp.zeros(1,6)\n",
    "# a1\n",
    "a[0] = 70\n",
    "# a2\n",
    "a[1] = 360\n",
    "alpha = sp.Matrix([sp.rad(-90),sp.rad(0),sp.rad(90),sp.rad(-90),sp.rad(90),sp.rad(0)])\n",
    "# Parametros articulares\n",
    "# q = sp.Matrix([sp.rad(0),sp.rad(-90),sp.rad(180),sp.rad(0),sp.rad(90),sp.rad(0)])\n",
    "# # Resolvemos problema directo\n",
    "# POSE, conf = pcd_IRB140(d,q,alpha,a)\n",
    "q1_actual = 0\n",
    "q4_actual = 0\n",
    "q = pinv_IRB140(Ar,conf,q1_actual,q4_actual,d,alpha,a)\n",
    "sp.pprint(sp.deg(q).evalf())\n",
    "q[0] =  sp.rad(180)\n",
    "q[5] =  sp.rad(0)\n",
    "# q = q.evalf()\n",
    "sp.pprint(sp.deg(q).evalf())\n",
    "POSE, conf, A_i_j = pcd_IRB140(d,q,alpha,a)\n",
    "sp.pprint(POSE.evalf())\n"
   ]
  },
  {
   "cell_type": "markdown",
   "metadata": {},
   "source": [
    "![Alt text](\\imagenes\\TP2_SegundioIntento\\image-4.png)"
   ]
  },
  {
   "cell_type": "code",
   "execution_count": null,
   "metadata": {},
   "outputs": [],
   "source": [
    "# Parametros de Denavit y Hartenberg para el robot IRB140\n",
    "d = sp.zeros(1,6)\n",
    "# d4\n",
    "d[3] = 380\n",
    "a = sp.zeros(1,6)\n",
    "# a1\n",
    "a[0] = 70\n",
    "# a2\n",
    "a[1] = 360\n",
    "alpha = sp.Matrix([sp.rad(-90),sp.rad(0),sp.rad(90),sp.rad(-90),sp.rad(90),sp.rad(0)])\n",
    "# Parametros articulares\n",
    "q = sp.Matrix([sp.rad(0),sp.rad(0),sp.rad(0),sp.rad(0),sp.rad(90),sp.rad(0)])\n",
    "# # Resolvemos problema directo\n",
    "# POSE, conf = pcd_IRB140(d,q,alpha,a)\n",
    "q1_actual = 0\n",
    "q4_actual = 0\n",
    "POSE, conf, A_i_j = pcd_IRB140(d,q,alpha,a)\n",
    "sp.pprint(POSE.evalf())\n"
   ]
  }
 ],
 "metadata": {
  "kernelspec": {
   "display_name": "env",
   "language": "python",
   "name": "python3"
  },
  "language_info": {
   "codemirror_mode": {
    "name": "ipython",
    "version": 3
   },
   "file_extension": ".py",
   "mimetype": "text/x-python",
   "name": "python",
   "nbconvert_exporter": "python",
   "pygments_lexer": "ipython3",
   "version": "3.10.4"
  },
  "orig_nbformat": 4
 },
 "nbformat": 4,
 "nbformat_minor": 2
}
