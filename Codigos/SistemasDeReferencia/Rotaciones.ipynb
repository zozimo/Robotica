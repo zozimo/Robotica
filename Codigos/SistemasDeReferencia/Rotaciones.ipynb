{
 "cells": [
  {
   "cell_type": "markdown",
   "metadata": {},
   "source": [
    "# Problema Cinematico\n",
    "\n",
    "Vamos a programar lo siguiente:\n",
    "* El problema cinematico directo/inverso de los angulos de Euler\n",
    "* El directo Inverso de los cuaterniones\n",
    "* Programar la matriz de rotación sobre un eje genérico\n",
    "\n"
   ]
  },
  {
   "cell_type": "markdown",
   "metadata": {},
   "source": [
    "Empezamos programando la matriz de rotación sobre el eje $z$"
   ]
  },
  {
   "cell_type": "code",
   "execution_count": 1,
   "metadata": {},
   "outputs": [
    {
     "name": "stdout",
     "output_type": "stream",
     "text": [
      "⎡0  -1  0⎤\n",
      "⎢        ⎥\n",
      "⎢1  0   0⎥\n",
      "⎢        ⎥\n",
      "⎣0  0   1⎦\n",
      "⎡1  0  0⎤\n",
      "⎢       ⎥\n",
      "⎢0  1  0⎥\n",
      "⎢       ⎥\n",
      "⎣0  0  1⎦\n"
     ]
    }
   ],
   "source": [
    "import sympy as symb\n",
    "import numpy as np\n",
    "from recursos_robotica.RotoTraslaciones import *\n",
    "\n",
    "\n",
    "theta = symb.pi /2\n",
    "R = rotZ(theta)\n",
    "symb.pprint(rotZ(theta))\n",
    "symb.pprint(R*R.T)"
   ]
  },
  {
   "cell_type": "code",
   "execution_count": 2,
   "metadata": {},
   "outputs": [
    {
     "name": "stdout",
     "output_type": "stream",
     "text": [
      "⎡0   0  1⎤\n",
      "⎢        ⎥\n",
      "⎢0   1  0⎥\n",
      "⎢        ⎥\n",
      "⎣-1  0  0⎦\n"
     ]
    }
   ],
   "source": [
    "R = rotY(theta)\n",
    "symb.pprint(R)\n"
   ]
  },
  {
   "cell_type": "markdown",
   "metadata": {},
   "source": [
    "Si rotamos sobre el eje $y$ en $\\frac{\\pi}{2}$, vemos que El $x$ va al  $-z$ y el $z$ baja al $x$ y el $y$ queda en el mismo lugar"
   ]
  },
  {
   "cell_type": "markdown",
   "metadata": {},
   "source": [
    "### Problema directo de los angulos de Euler"
   ]
  },
  {
   "cell_type": "code",
   "execution_count": 3,
   "metadata": {},
   "outputs": [
    {
     "name": "stdout",
     "output_type": "stream",
     "text": [
      "⎡π⎤\n",
      "⎢─⎥\n",
      "⎢2⎥\n",
      "⎢ ⎥\n",
      "⎢π⎥\n",
      "⎢─⎥\n",
      "⎢2⎥\n",
      "⎢ ⎥\n",
      "⎣0⎦\n",
      "⎡0   -1  0⎤\n",
      "⎢         ⎥\n",
      "⎢0   0   1⎥\n",
      "⎢         ⎥\n",
      "⎣-1  0   0⎦\n"
     ]
    }
   ],
   "source": [
    "angulos = (symb.pi/180) * symb.Matrix([90,90,0])\n",
    "symb.pprint(angulos)\n",
    "# Matriz de rotacion a partir de los angulos de Euler\n",
    "R = dirEuler(angulos)\n",
    "symb.pprint(R)"
   ]
  },
  {
   "cell_type": "markdown",
   "metadata": {},
   "source": [
    "### Problema inverso de los angulos de Euler\n",
    "\n",
    "A partir de una matriz de rotacion $R$ obtengo los angulos de Euler. También debe ir un indice de configuracion, ese indice de configuracion en el signo de $\\theta$"
   ]
  },
  {
   "cell_type": "code",
   "execution_count": 4,
   "metadata": {},
   "outputs": [
    {
     "name": "stdout",
     "output_type": "stream",
     "text": [
      "⎡π⎤\n",
      "⎢─⎥\n",
      "⎢2⎥\n",
      "⎢ ⎥\n",
      "⎢π⎥\n",
      "⎢─⎥\n",
      "⎢2⎥\n",
      "⎢ ⎥\n",
      "⎣0⎦\n"
     ]
    }
   ],
   "source": [
    "angulos = invEuler(R,1)\n",
    "symb.pprint(angulos)"
   ]
  },
  {
   "cell_type": "code",
   "execution_count": 5,
   "metadata": {},
   "outputs": [
    {
     "name": "stdout",
     "output_type": "stream",
     "text": [
      "⎡-π ⎤\n",
      "⎢───⎥\n",
      "⎢ 2 ⎥\n",
      "⎢   ⎥\n",
      "⎢-π ⎥\n",
      "⎢───⎥\n",
      "⎢ 2 ⎥\n",
      "⎢   ⎥\n",
      "⎣ π ⎦\n"
     ]
    },
    {
     "data": {
      "text/latex": [
       "$\\displaystyle \\left[\\begin{matrix}0 & -1 & 0\\\\0 & 0 & 1\\\\-1 & 0 & 0\\end{matrix}\\right]$"
      ],
      "text/plain": [
       "Matrix([\n",
       "[ 0, -1, 0],\n",
       "[ 0,  0, 1],\n",
       "[-1,  0, 0]])"
      ]
     },
     "execution_count": 5,
     "metadata": {},
     "output_type": "execute_result"
    }
   ],
   "source": [
    "e2 = invEuler(R,-1) \n",
    "symb.pprint(e2)\n",
    "dirEuler(e2)"
   ]
  },
  {
   "cell_type": "markdown",
   "metadata": {},
   "source": [
    "## Singularidad para el problema inverso de Euler\n",
    "\n",
    "$atan2(x,y)$, que hacer cuando $x$ e $y$ son nulos"
   ]
  },
  {
   "cell_type": "code",
   "execution_count": 6,
   "metadata": {},
   "outputs": [
    {
     "name": "stdout",
     "output_type": "stream",
     "text": [
      "⎡0.984807753012208  -0.17364817766693   0 ⎤\n",
      "⎢                                         ⎥\n",
      "⎢0.17364817766693   0.984807753012208   0 ⎥\n",
      "⎢                                         ⎥\n",
      "⎣        0                  0          1.0⎦\n",
      "⎡nan⎤\n",
      "⎢   ⎥\n",
      "⎢ 0 ⎥\n",
      "⎢   ⎥\n",
      "⎣nan⎦\n",
      "⎡nan  nan  nan⎤\n",
      "⎢             ⎥\n",
      "⎢nan  nan  nan⎥\n",
      "⎢             ⎥\n",
      "⎣nan  nan   1 ⎦\n"
     ]
    }
   ],
   "source": [
    "R = rotZ(symb.rad(10))\n",
    "symb.pprint(R.evalf())\n",
    "\n",
    "# Ahora tomo esta matriz de rotacion y calculo los angulos de Euler\n",
    "\n",
    "e3 = invEuler(R,1) \n",
    "symb.pprint(e3)\n",
    "symb.pprint(dirEuler(e3))\n"
   ]
  },
  {
   "cell_type": "markdown",
   "metadata": {},
   "source": [
    "## Formula de rodriguez\n",
    "\n",
    "Planteamos el problema de rotacion en $\\theta$ sobre un eje $\\hat{k}$ generico\n",
    "\n",
    "Rotamos $10 °$ sobre el eje $z$"
   ]
  },
  {
   "cell_type": "code",
   "execution_count": 7,
   "metadata": {},
   "outputs": [
    {
     "name": "stdout",
     "output_type": "stream",
     "text": [
      "⎡0.984807753012208  -0.17364817766693   0    0 ⎤\n",
      "⎢                                              ⎥\n",
      "⎢0.17364817766693   0.984807753012208   0    0 ⎥\n",
      "⎢                                              ⎥\n",
      "⎢        0                  0          1.0   0 ⎥\n",
      "⎢                                              ⎥\n",
      "⎣        0                  0           0   1.0⎦\n"
     ]
    }
   ],
   "source": [
    "k = symb.Matrix([0, 0, 1] )\n",
    "R, Rr = rotk(symb.rad(10),k)\n",
    "symb.pprint(Rr.evalf())"
   ]
  },
  {
   "cell_type": "markdown",
   "metadata": {},
   "source": [
    "Rotamos sobre un eje cualquiera un angulo de $45°$\n",
    "El resultado es una matriz de rotación"
   ]
  },
  {
   "cell_type": "code",
   "execution_count": 8,
   "metadata": {},
   "outputs": [
    {
     "name": "stdout",
     "output_type": "stream",
     "text": [
      "⎡0.853553390593274  0.146446609406726         0.5          0 ⎤\n",
      "⎢                                                            ⎥\n",
      "⎢0.146446609406726  0.853553390593274        -0.5          0 ⎥\n",
      "⎢                                                            ⎥\n",
      "⎢      -0.5                0.5         0.707106781186548   0 ⎥\n",
      "⎢                                                            ⎥\n",
      "⎣        0                  0                  0          1.0⎦\n"
     ]
    }
   ],
   "source": [
    "k = symb.Matrix([1, 1, 0] )\n",
    "R,Rr = rotk(symb.rad(45),k)\n",
    "symb.pprint(Rr.evalf())"
   ]
  },
  {
   "cell_type": "markdown",
   "metadata": {},
   "source": [
    "que pasa si me dan este resultado y me  dicen encuentre el vector de rotación. ¿como hago?\n",
    "Con cuaterniones se podra hacer mas adenlante, pero ahora podemos pensar en descomposición de en avas y aves"
   ]
  },
  {
   "cell_type": "code",
   "execution_count": 9,
   "metadata": {},
   "outputs": [
    {
     "name": "stdout",
     "output_type": "stream",
     "text": [
      "⎧      √2⋅(1 - ⅈ)     √2⋅ⅈ⋅(1 - ⅈ)   ⎫\n",
      "⎨1: 1, ──────────: 1, ────────────: 1⎬\n",
      "⎩          2               2         ⎭\n",
      "⎡               ⎛              ⎡⎡ √2⋅ⅈ ⎤⎤⎞  ⎛              ⎡⎡-√2⋅ⅈ ⎤⎤⎞⎤\n",
      "⎢               ⎜              ⎢⎢ ──── ⎥⎥⎟  ⎜              ⎢⎢──────⎥⎥⎟⎥\n",
      "⎢⎛      ⎡⎡1⎤⎤⎞  ⎜              ⎢⎢  2   ⎥⎥⎟  ⎜              ⎢⎢  2   ⎥⎥⎟⎥\n",
      "⎢⎜      ⎢⎢ ⎥⎥⎟  ⎜√2   √2⋅ⅈ     ⎢⎢      ⎥⎥⎟  ⎜√2   √2⋅ⅈ     ⎢⎢      ⎥⎥⎟⎥\n",
      "⎢⎜1, 1, ⎢⎢1⎥⎥⎟, ⎜── - ────, 1, ⎢⎢-√2⋅ⅈ ⎥⎥⎟, ⎜── + ────, 1, ⎢⎢ √2⋅ⅈ ⎥⎥⎟⎥\n",
      "⎢⎜      ⎢⎢ ⎥⎥⎟  ⎜2     2       ⎢⎢──────⎥⎥⎟  ⎜2     2       ⎢⎢ ──── ⎥⎥⎟⎥\n",
      "⎢⎝      ⎣⎣0⎦⎦⎠  ⎜              ⎢⎢  2   ⎥⎥⎟  ⎜              ⎢⎢  2   ⎥⎥⎟⎥\n",
      "⎢               ⎜              ⎢⎢      ⎥⎥⎟  ⎜              ⎢⎢      ⎥⎥⎟⎥\n",
      "⎣               ⎝              ⎣⎣  1   ⎦⎦⎠  ⎝              ⎣⎣  1   ⎦⎦⎠⎦\n",
      "Matriz P (matriz de autovectores):\n",
      "⎡1.0  0.707106781186548⋅ⅈ   -0.707106781186548⋅ⅈ⎤\n",
      "⎢                                               ⎥\n",
      "⎢1.0  -0.707106781186548⋅ⅈ  0.707106781186548⋅ⅈ ⎥\n",
      "⎢                                               ⎥\n",
      "⎣ 0           1.0                   1.0         ⎦\n",
      "Matriz D (matriz diagonal de autovalores):\n",
      "⎡1      0          0    ⎤\n",
      "⎢                       ⎥\n",
      "⎢   √2   √2⋅ⅈ           ⎥\n",
      "⎢0  ── - ────      0    ⎥\n",
      "⎢   2     2             ⎥\n",
      "⎢                       ⎥\n",
      "⎢              √2   √2⋅ⅈ⎥\n",
      "⎢0      0      ── + ────⎥\n",
      "⎣              2     2  ⎦\n"
     ]
    }
   ],
   "source": [
    "avas = R.eigenvals()\n",
    "symb.pprint(avas)\n",
    "aves = R.eigenvects()\n",
    "symb.pprint(aves)\n",
    "P,D = R.diagonalize()\n",
    "\n",
    "print(\"Matriz P (matriz de autovectores):\")\n",
    "symb.pprint(P.evalf())\n",
    "\n",
    "print(\"Matriz D (matriz diagonal de autovalores):\")\n",
    "symb.pprint(D)"
   ]
  },
  {
   "cell_type": "markdown",
   "metadata": {},
   "source": [
    "Vemos que el ava $\\lambda_{1}=1$ tiene asociado el ave $[1, 1, 0]^{T}$ y este es el vector de rotación, la descomposición en avas y aves nos da el eje de rotación"
   ]
  },
  {
   "cell_type": "markdown",
   "metadata": {},
   "source": [
    "## Matriz de roto traslación"
   ]
  },
  {
   "cell_type": "markdown",
   "metadata": {},
   "source": [
    "Queremos armar una matriz de roto traslación, que tiene la rotación $R$ y un desplazamiento de $t = [1, -1, 0]$\n"
   ]
  },
  {
   "cell_type": "code",
   "execution_count": 17,
   "metadata": {},
   "outputs": [
    {
     "name": "stdout",
     "output_type": "stream",
     "text": [
      "Matriz de tralacion pura\n",
      "\n",
      "⎡1  0  0  1 ⎤\n",
      "⎢           ⎥\n",
      "⎢0  1  0  -1⎥\n",
      "⎢           ⎥\n",
      "⎢0  0  1  0 ⎥\n",
      "⎢           ⎥\n",
      "⎣0  0  0  1 ⎦\n",
      "Matriz de rotación pura\n",
      "\n",
      "⎡0.853553390593274  0.146446609406726         0.5          0 ⎤\n",
      "⎢                                                            ⎥\n",
      "⎢0.146446609406726  0.853553390593274        -0.5          0 ⎥\n",
      "⎢                                                            ⎥\n",
      "⎢      -0.5                0.5         0.707106781186548   0 ⎥\n",
      "⎢                                                            ⎥\n",
      "⎣        0                  0                  0          1.0⎦\n",
      "Matriz de rotación\n",
      "\n",
      "⎡0.853553390593274  0.146446609406726         0.5       ⎤\n",
      "⎢                                                       ⎥\n",
      "⎢0.146446609406726  0.853553390593274        -0.5       ⎥\n",
      "⎢                                                       ⎥\n",
      "⎣      -0.5                0.5         0.707106781186548⎦\n"
     ]
    }
   ],
   "source": [
    "th = symb.rad(45) # Angulo de rotacion\n",
    "k = symb.Matrix([1, 1, 0] ) # Eje sobre el cual rota\n",
    "p = symb.Matrix([[1], [-1], [0]]) # vector de desplazamiento\n",
    "Tr = trasl(p)\n",
    "R, Rr= rotk(th, k)\n",
    "# \"{:.2f}\".format(resultado)\n",
    "print(\"Matriz de tralacion pura\\n\")\n",
    "symb.pprint(Tr)\n",
    "print(\"Matriz de rotación pura\\n\")\n",
    "symb.pprint(Rr.evalf())\n",
    "print(\"Matriz de rotación\\n\")\n",
    "symb.pprint(R.evalf())\n",
    "\n",
    "\n"
   ]
  },
  {
   "cell_type": "markdown",
   "metadata": {},
   "source": [
    "![Alt text](image.png)"
   ]
  },
  {
   "cell_type": "code",
   "execution_count": 18,
   "metadata": {},
   "outputs": [
    {
     "name": "stdout",
     "output_type": "stream",
     "text": [
      "Matriz de RotoTralacion\n",
      "\n",
      "⎡0.853553390593274  0.146446609406726         0.5         0.707106781186548 ⎤\n",
      "⎢                                                                           ⎥\n",
      "⎢0.146446609406726  0.853553390593274        -0.5         -0.707106781186548⎥\n",
      "⎢                                                                           ⎥\n",
      "⎢      -0.5                0.5         0.707106781186548         -1.0       ⎥\n",
      "⎢                                                                           ⎥\n",
      "⎣        0                  0                  0                 1.0        ⎦\n",
      "Matriz de rotación\n",
      "\n",
      "⎡0.853553390593274  0.146446609406726         0.5       ⎤\n",
      "⎢                                                       ⎥\n",
      "⎢0.146446609406726  0.853553390593274        -0.5       ⎥\n",
      "⎢                                                       ⎥\n",
      "⎣      -0.5                0.5         0.707106781186548⎦\n",
      "Matriz de rotación pura\n",
      "\n",
      "⎡0.853553390593274  0.146446609406726         0.5          0 ⎤\n",
      "⎢                                                            ⎥\n",
      "⎢0.146446609406726  0.853553390593274        -0.5          0 ⎥\n",
      "⎢                                                            ⎥\n",
      "⎢      -0.5                0.5         0.707106781186548   0 ⎥\n",
      "⎢                                                            ⎥\n",
      "⎣        0                  0                  0          1.0⎦\n",
      "Matriz de Traslacion pura\n",
      "\n",
      "⎡1.0   0    0   1.0 ⎤\n",
      "⎢                   ⎥\n",
      "⎢ 0   1.0   0   -1.0⎥\n",
      "⎢                   ⎥\n",
      "⎢ 0    0   1.0   0  ⎥\n",
      "⎢                   ⎥\n",
      "⎣ 0    0    0   1.0 ⎦\n"
     ]
    }
   ],
   "source": [
    "A, Rr, Tr, R = rotoTrasla(th, k, p)\n",
    "print(\"Matriz de RotoTralacion\\n\")\n",
    "symb.pprint(A.evalf())\n",
    "print(\"Matriz de rotación\\n\")\n",
    "symb.pprint(R.evalf())\n",
    "print(\"Matriz de rotación pura\\n\")\n",
    "symb.pprint(Rr.evalf())\n",
    "print(\"Matriz de Traslacion pura\\n\")\n",
    "symb.pprint(Tr.evalf())"
   ]
  },
  {
   "cell_type": "code",
   "execution_count": 12,
   "metadata": {},
   "outputs": [
    {
     "name": "stdout",
     "output_type": "stream",
     "text": [
      "Matriz de rotacion original)\n",
      "⎡0.9960117682   0.00597516478   -0.0005042662 ⎤\n",
      "⎢                                             ⎥\n",
      "⎢0.00597287522  -0.9999723516  -0.00441712882 ⎥\n",
      "⎢                                             ⎥\n",
      "⎣-0.0005306978  0.00441403118  -0.999990097638⎦\n",
      "Matriz de rotacion a)\n",
      "⎡ 0.52532198881773   0.850903524534118   0 ⎤\n",
      "⎢                                          ⎥\n",
      "⎢-0.850903524534118  0.52532198881773    0 ⎥\n",
      "⎢                                          ⎥\n",
      "⎣        0                   0          1.0⎦\n",
      "Matriz de rotacion b\n",
      "⎡ 0.52532198881773   0.850903524534118   0 ⎤\n",
      "⎢                                          ⎥\n",
      "⎢-0.850903524534118  0.52532198881773    0 ⎥\n",
      "⎢                                          ⎥\n",
      "⎣        0                   0          1.0⎦\n",
      "Matriz de rotacion b\n",
      "⎡0.52532198881773   -0.850903524534118   0 ⎤\n",
      "⎢                                          ⎥\n",
      "⎢0.850903524534118   0.52532198881773    0 ⎥\n",
      "⎢                                          ⎥\n",
      "⎣        0                  0           1.0⎦\n"
     ]
    }
   ],
   "source": [
    "th = symb.rad(12)\n",
    "e1 = symb.Matrix([0, 1, 1] )\n",
    "p = symb.Matrix([[100], [50], [25]])\n",
    "R = qToR(symb.Matrix([0.00221, 0.999, 0.00299,-0.000259] ))\n",
    "P,D = R.diagonalize()\n",
    "\n",
    "print(\"Matriz de rotacion original)\")\n",
    "# symb.pprint(\"mi {}\".format(R))\n",
    "symb.pprint(R)\n",
    "\n",
    "R1 = qToR(symb.Matrix([symb.cos(22.5), 0, 0,-symb.sin(22.5)] ))\n",
    "\n",
    "print(\"Matriz de rotacion a)\")\n",
    "# symb.pprint(\"mi {}\".format(R))\n",
    "symb.pprint(R1)\n",
    "\n",
    "\n",
    "R2 = qToR(symb.Matrix([symb.cos(-22.5), 0, 0,symb.sin(-22.5)] ))\n",
    "\n",
    "print(\"Matriz de rotacion b\")\n",
    "# symb.pprint(\"mi {}\".format(R))\n",
    "symb.pprint(R2)\n",
    "\n",
    "R3 = qToR(symb.Matrix([symb.cos(22.5), 0, 0,symb.sin(22.5)] ))\n",
    "\n",
    "print(\"Matriz de rotacion b\")\n",
    "# symb.pprint(\"mi {}\".format(R))\n",
    "symb.pprint(R3)\n",
    "# print(\"Matriz P (matriz de autovectores):\")\n",
    "# symb.pprint(\"mi {}\".format(P))\n",
    "\n",
    "# print(\"Matriz D (matriz diagonal de autovalores):\")\n",
    "# symb.pprint(\"mi {}\".format(D.evalf()))\n",
    "\n"
   ]
  },
  {
   "cell_type": "code",
   "execution_count": 13,
   "metadata": {},
   "outputs": [
    {
     "name": "stdout",
     "output_type": "stream",
     "text": [
      "⎡0.853553390593274  0.146446609406726         0.5         1.0 ⎤\n",
      "⎢                                                             ⎥\n",
      "⎢0.146446609406726  0.853553390593274        -0.5         -1.0⎥\n",
      "⎢                                                             ⎥\n",
      "⎢      -0.5                0.5         0.707106781186548   0  ⎥\n",
      "⎢                                                             ⎥\n",
      "⎣        0                  0                  0          1.0 ⎦\n",
      "⎡0.853553390593274  0.146446609406726         0.5         0.707106781186548 ⎤\n",
      "⎢                                                                           ⎥\n",
      "⎢0.146446609406726  0.853553390593274        -0.5         -0.707106781186548⎥\n",
      "⎢                                                                           ⎥\n",
      "⎢      -0.5                0.5         0.707106781186548         -1.0       ⎥\n",
      "⎢                                                                           ⎥\n",
      "⎣        0                  0                  0                 1.0        ⎦\n"
     ]
    }
   ],
   "source": [
    "th = symb.rad(45)\n",
    "k = symb.Matrix([1, 1, 0] )\n",
    "p = symb.Matrix([[1], [-1], [0]])\n",
    "# p =  symb.Matrix([1, -1, 0])\n",
    "# p = p.T\n",
    "Tr = trasl(p)\n",
    "R, Rr= rotk(th, k)\n",
    "# symb.pprint(Tr.evalf())\n",
    "# symb.pprint(Rr.evalf())\n",
    "\n",
    "# Primero traslacion y luego rotacion me devuelve la matriz A\n",
    "symb.pprint((Tr*Rr).evalf()) \n",
    "# Primero rotación y luego traslación me devuelve otra cosa\n",
    "symb.pprint((Rr*Tr).evalf()) "
   ]
  },
  {
   "cell_type": "markdown",
   "metadata": {},
   "source": [
    "## Ejercicios"
   ]
  },
  {
   "cell_type": "markdown",
   "metadata": {},
   "source": [
    "El producto de dos columnas de $A$ da cero porque $A$ es ortonormal"
   ]
  },
  {
   "cell_type": "code",
   "execution_count": 14,
   "metadata": {},
   "outputs": [
    {
     "ename": "NameError",
     "evalue": "name 'A12' is not defined",
     "output_type": "error",
     "traceback": [
      "\u001b[1;31m---------------------------------------------------------------------------\u001b[0m",
      "\u001b[1;31mNameError\u001b[0m                                 Traceback (most recent call last)",
      "\u001b[1;32mc:\\Users\\caranda\\Desktop\\Repositorios\\Robotica\\Codigos\\SistemasDeReferencia\\Rotaciones.ipynb Cell 28\u001b[0m line \u001b[0;36m3\n\u001b[0;32m      <a href='vscode-notebook-cell:/c%3A/Users/caranda/Desktop/Repositorios/Robotica/Codigos/SistemasDeReferencia/Rotaciones.ipynb#X36sZmlsZQ%3D%3D?line=0'>1</a>\u001b[0m k \u001b[39m=\u001b[39m symb\u001b[39m.\u001b[39mMatrix([\u001b[39m1\u001b[39m, \u001b[39m1\u001b[39m, \u001b[39m0\u001b[39m] )\n\u001b[0;32m      <a href='vscode-notebook-cell:/c%3A/Users/caranda/Desktop/Repositorios/Robotica/Codigos/SistemasDeReferencia/Rotaciones.ipynb#X36sZmlsZQ%3D%3D?line=1'>2</a>\u001b[0m v \u001b[39m=\u001b[39m k\u001b[39m.\u001b[39mT\n\u001b[1;32m----> <a href='vscode-notebook-cell:/c%3A/Users/caranda/Desktop/Repositorios/Robotica/Codigos/SistemasDeReferencia/Rotaciones.ipynb#X36sZmlsZQ%3D%3D?line=2'>3</a>\u001b[0m symb\u001b[39m.\u001b[39mpprint((A12[:,\u001b[39m2\u001b[39m]\u001b[39m.\u001b[39mT\u001b[39m*\u001b[39mA12[:,\u001b[39m1\u001b[39m])\u001b[39m.\u001b[39mevalf()) \n\u001b[0;32m      <a href='vscode-notebook-cell:/c%3A/Users/caranda/Desktop/Repositorios/Robotica/Codigos/SistemasDeReferencia/Rotaciones.ipynb#X36sZmlsZQ%3D%3D?line=4'>5</a>\u001b[0m \u001b[39m# Calcular la descomposición en valores singulares (SVD)\u001b[39;00m\n\u001b[0;32m      <a href='vscode-notebook-cell:/c%3A/Users/caranda/Desktop/Repositorios/Robotica/Codigos/SistemasDeReferencia/Rotaciones.ipynb#X36sZmlsZQ%3D%3D?line=6'>7</a>\u001b[0m U, S, V \u001b[39m=\u001b[39m np\u001b[39m.\u001b[39mlinalg\u001b[39m.\u001b[39msvd(np\u001b[39m.\u001b[39marray(A12, dtype\u001b[39m=\u001b[39m\u001b[39mfloat\u001b[39m))\n",
      "\u001b[1;31mNameError\u001b[0m: name 'A12' is not defined"
     ]
    }
   ],
   "source": [
    "k = symb.Matrix([1, 1, 0] )\n",
    "v = k.T\n",
    "symb.pprint((A12[:,2].T*A12[:,1]).evalf()) \n",
    "\n",
    "# Calcular la descomposición en valores singulares (SVD)\n",
    "\n",
    "U, S, V = np.linalg.svd(np.array(A12, dtype=float))\n",
    "\n",
    "# Imprimir las matrices U, S y V\n",
    "print(\"Matriz U:\")\n",
    "symb.pprint(symb.Matrix(U))\n",
    "print(\"\\nMatriz S (valores singulares):\")\n",
    "print(S)\n",
    "print(\"\\nMatriz V:\")\n",
    "print(V)\n"
   ]
  },
  {
   "cell_type": "markdown",
   "metadata": {},
   "source": [
    "Ejercicio 1"
   ]
  },
  {
   "cell_type": "code",
   "execution_count": null,
   "metadata": {},
   "outputs": [
    {
     "name": "stdout",
     "output_type": "stream",
     "text": [
      "⎡ √2      √2⎤\n",
      "⎢ ──   0  ──⎥\n",
      "⎢ 2       2 ⎥\n",
      "⎢           ⎥\n",
      "⎢ 0    1  0 ⎥\n",
      "⎢           ⎥\n",
      "⎢-√2      √2⎥\n",
      "⎢────  0  ──⎥\n",
      "⎣ 2       2 ⎦\n"
     ]
    }
   ],
   "source": [
    "# Ej 3\n",
    "th = symb.rad(45)\n",
    "k = symb.Matrix([0, 1, 0] )\n",
    "# p = symb.Matrix([[1], [-1], [0]])\n",
    "# p =  symb.Matrix([1, -1, 0])\n",
    "# p = p.T\n",
    "# Tr = trasl(p)\n",
    "R, Rr= rotk(th, k)\n",
    "symb.pprint(R)"
   ]
  },
  {
   "cell_type": "code",
   "execution_count": null,
   "metadata": {},
   "outputs": [
    {
     "data": {
      "text/latex": [
       "$\\displaystyle \\left[\\begin{matrix}1.0 & 0 & 2.0\\\\0 & -1.0 & 0\\\\2.0 & 0 & 1.0\\end{matrix}\\right]$"
      ],
      "text/plain": [
       "Matrix([\n",
       "[1.0,    0, 2.0],\n",
       "[  0, -1.0,   0],\n",
       "[2.0,    0, 1.0]])"
      ]
     },
     "execution_count": 64,
     "metadata": {},
     "output_type": "execute_result"
    }
   ],
   "source": [
    "qToR(symb.Matrix([0, 1, 0,1] ))"
   ]
  },
  {
   "cell_type": "code",
   "execution_count": null,
   "metadata": {},
   "outputs": [
    {
     "data": {
      "text/latex": [
       "$\\displaystyle \\left[\\begin{matrix}0 & -1 & 0\\\\1 & 0 & 0\\\\0 & 0 & 1\\end{matrix}\\right]$"
      ],
      "text/plain": [
       "Matrix([\n",
       "[0, -1, 0],\n",
       "[1,  0, 0],\n",
       "[0,  0, 1]])"
      ]
     },
     "execution_count": 65,
     "metadata": {},
     "output_type": "execute_result"
    }
   ],
   "source": [
    "angulos = symb.rad(symb.Matrix([-90,0,-180]))\n",
    "dirEuler(angulos)\n"
   ]
  },
  {
   "cell_type": "markdown",
   "metadata": {},
   "source": [
    "e) correcto\n",
    "a) correcto"
   ]
  },
  {
   "cell_type": "code",
   "execution_count": null,
   "metadata": {},
   "outputs": [
    {
     "name": "stdout",
     "output_type": "stream",
     "text": [
      "⎡nan⎤\n",
      "⎢   ⎥\n",
      "⎢ 0 ⎥\n",
      "⎢   ⎥\n",
      "⎣nan⎦\n"
     ]
    }
   ],
   "source": [
    "R = symb.Matrix([[0, -1, 0],[1, 0 ,0],[0, 0 , 1]])\n",
    "\n",
    "e3 = invEuler(R,1) \n",
    "symb.pprint(e3)"
   ]
  },
  {
   "cell_type": "code",
   "execution_count": null,
   "metadata": {},
   "outputs": [
    {
     "name": "stdout",
     "output_type": "stream",
     "text": [
      "⎡0.707106781186548    0   0.707106781186548  84.8528137423857⎤\n",
      "⎢                                                            ⎥\n",
      "⎢        0           1.0          0                 0        ⎥\n",
      "⎢                                                            ⎥\n",
      "⎢-0.707106781186548   0   0.707106781186548  174.852813742386⎥\n",
      "⎢                                                            ⎥\n",
      "⎣        0            0           0                1.0       ⎦\n"
     ]
    }
   ],
   "source": [
    "th = symb.rad(45)\n",
    "k = symb.Matrix([0, 1, 0] )\n",
    "p0i = symb.Matrix([[0], [0], [90]])\n",
    "# p =  symb.Matrix([1, -1, 0])\n",
    "# p = p.T\n",
    "Tr1 = trasl(p0i)\n",
    "R, Rr= rotk(th, k)\n",
    "\n",
    "pi1 = symb.Matrix([[0], [0], [120]])\n",
    "Tr2 = trasl(pi1)\n",
    "# symb.pprint(Tr.evalf())\n",
    "# symb.pprint(Rr.evalf())\n",
    "\n",
    "# Primero traslacion y luego rotacion me devuelve la matriz A\n",
    "symb.pprint((Tr1*Rr*Tr2).evalf()) \n",
    "# Primero rotación y luego traslación me devuelve otra cosa\n",
    "# symb.pprint((Rr*Tr).evalf()) "
   ]
  },
  {
   "cell_type": "code",
   "execution_count": null,
   "metadata": {},
   "outputs": [
    {
     "name": "stdout",
     "output_type": "stream",
     "text": [
      "⎡0.819152044288992  -0.573576436351046   0 ⎤\n",
      "⎢                                          ⎥\n",
      "⎢0.573576436351046  0.819152044288992    0 ⎥\n",
      "⎢                                          ⎥\n",
      "⎣        0                  0           1.0⎦\n",
      "⎡1.0   0    0 ⎤\n",
      "⎢             ⎥\n",
      "⎢ 0   1.0   0 ⎥\n",
      "⎢             ⎥\n",
      "⎣ 0    0   1.0⎦\n"
     ]
    }
   ],
   "source": [
    "# cos(5º);0;0;-sin(5º)\n",
    "R1 = qToR(symb.Matrix([symb.cos(symb.rad(5)), 0, 0,-symb.sin(symb.rad(5))] ))\n",
    "\n",
    "th = symb.rad(45)\n",
    "k = symb.Matrix([0, 0, 1] )\n",
    "R2, Rr= rotk(th, k)\n",
    "\n",
    "R = R1 * R2\n",
    "symb.pprint(R.evalf()) \n",
    "Rx = qToR(symb.Matrix([1, 0, 0,0] ))\n",
    "symb.pprint(Rx.evalf()) \n"
   ]
  },
  {
   "cell_type": "code",
   "execution_count": null,
   "metadata": {},
   "outputs": [
    {
     "name": "stdout",
     "output_type": "stream",
     "text": [
      "Matriz de rotacion\n",
      "\n",
      "⎡0.917530916234449  -0.207632450964555  0.339154512074399  3.15756895852133⎤\n",
      "⎢                                                                          ⎥\n",
      "⎢0.110116030144229  0.952174064045934   0.285024580805806  2.26260079013102⎥\n",
      "⎢                                                                          ⎥\n",
      "⎢-0.38211448239925  -0.224172516300955  0.896512802628078  4.09985873094514⎥\n",
      "⎢                                                                          ⎥\n",
      "⎣        0                  0                   0                1.0       ⎦\n"
     ]
    }
   ],
   "source": [
    "th1 = symb.rad(12)\n",
    "e1 = symb.Matrix([0, 1, 1] )\n",
    "p12 = symb.Matrix([[3], [4], [5]])\n",
    "A12, Rr12, Tr12, R12 = rotoTrasla(th1, e1, p12)\n",
    "\n",
    "th2 = symb.rad(-20)\n",
    "e2 = symb.Matrix([1, -1, 0] )\n",
    "p23 = symb.Matrix([[0], [-2], [-1]])\n",
    "A23, Rr23, Tr23, R23 = rotoTrasla(th2, e2, p23)\n",
    "\n",
    "A13 = A12 * A23\n",
    "print(\"Matriz de rotacion\\n\")\n",
    "symb.pprint(A13.evalf())\n",
    "# print(\"Matriz De rotoTraslacion\\n\")\n",
    "# symb.pprint(A12.evalf())\n",
    "# print(\"RotoDesc\\n\")\n",
    "# symb.pprint(Rr12.evalf())\n",
    "# print(\"TraslaDec\\n\")\n",
    "# symb.pprint(Tr12.evalf())"
   ]
  },
  {
   "cell_type": "code",
   "execution_count": null,
   "metadata": {},
   "outputs": [
    {
     "name": "stdout",
     "output_type": "stream",
     "text": [
      "[1.57970035951081]\n"
     ]
    }
   ],
   "source": [
    "p13 = symb.Matrix([3.15756895852133,2.26260079013102,4.09985873094514])\n",
    "x_1 = symb.Matrix([0.917530916234449,0.110116030144229,-0.38211448239925])\n",
    "symb.pprint(p13.T * x_1)"
   ]
  },
  {
   "cell_type": "markdown",
   "metadata": {},
   "source": [
    "### Respecto al atan2\n",
    "Claro, aquí tienes un ejemplo matemático de cómo despejar arcsin utilizando la función atan2:\n",
    "\n",
    "Supongamos que tienes un valor \"a\" que deseas calcular como arcsin(a), y sabes que \"a\" es el valor del seno de un ángulo θ en un triángulo rectángulo. La relación entre el seno (a), el coseno (b) y el ángulo θ se puede expresar de la siguiente manera:\n",
    "\n",
    "$$\n",
    "sin(\\theta) = a \\\\\n",
    "\n",
    "cos(\\theta) = \\sqrt{1-a^{2}}\n",
    "\n",
    "$$\n",
    "\n",
    "Ahora, utilizando la función atan2, puedes calcular θ de la siguiente manera:\n",
    "\n",
    "$$\n",
    "\\theta = atan2(a,\\sqrt{1-a^{2}} )\n",
    "$$\n",
    "\n",
    "El valor de \"a\" se encuentra en el rango válido de -1 a 1 para el seno, por lo que la expresión dentro de atan2 será siempre no negativa.\n",
    "\n",
    "Una vez que hayas calculado θ usando atan2, habrás encontrado el valor del ángulo θ cuyo seno es igual a \"a\". Este valor de θ es equivalente al resultado de arcsin(a).\n",
    "\n",
    "Por ejemplo, si deseas calcular arcsin(0.6), sabes que el seno de algún ángulo θ es igual a 0.6. Usando la fórmula anterior:\n",
    "\n",
    "$$\n",
    "\\theta = atan2(0.6,\\sqrt{1-0.6^{2}} )\n",
    "$$\n",
    "\n",
    "Calculando esto, obtendrás el valor de θ, que será igual al resultado de arcsin(0.6)."
   ]
  }
 ],
 "metadata": {
  "kernelspec": {
   "display_name": "Python 3 (ipykernel)",
   "language": "python",
   "name": "python3"
  },
  "language_info": {
   "codemirror_mode": {
    "name": "ipython",
    "version": 3
   },
   "file_extension": ".py",
   "mimetype": "text/x-python",
   "name": "python",
   "nbconvert_exporter": "python",
   "pygments_lexer": "ipython3",
   "version": "3.10.4"
  }
 },
 "nbformat": 4,
 "nbformat_minor": 2
}
